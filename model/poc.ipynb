{
 "cells": [
  {
   "cell_type": "code",
   "execution_count": 6,
   "metadata": {},
   "outputs": [],
   "source": [
    "import numpy as np\n",
    "import json\n",
    "import pandas as pd"
   ]
  },
  {
   "cell_type": "code",
   "execution_count": 7,
   "metadata": {},
   "outputs": [],
   "source": [
    "import torch"
   ]
  },
  {
   "cell_type": "code",
   "execution_count": 8,
   "metadata": {},
   "outputs": [],
   "source": [
    "data = json.load(open('data/intent.json','r'))"
   ]
  },
  {
   "cell_type": "code",
   "execution_count": 9,
   "metadata": {},
   "outputs": [
    {
     "data": {
      "text/plain": [
       "'No of intents : 22'"
      ]
     },
     "execution_count": 9,
     "metadata": {},
     "output_type": "execute_result"
    }
   ],
   "source": [
    "### No of intents do we have\n",
    "f\"No of intents : {len(data['intents'])}\""
   ]
  },
  {
   "cell_type": "code",
   "execution_count": 10,
   "metadata": {},
   "outputs": [
    {
     "data": {
      "text/plain": [
       "'Greeting, GreetingResponse, CourtesyGreeting, CourtesyGreetingResponse, CurrentHumanQuery, NameQuery, RealNameQuery, TimeQuery, Thanks, NotTalking2U, UnderstandQuery, Shutup, Swearing, GoodBye, CourtesyGoodBye, WhoAmI, Clever, Gossip, Jokes, PodBayDoor, PodBayDoorResponse, SelfAware'"
      ]
     },
     "execution_count": 10,
     "metadata": {},
     "output_type": "execute_result"
    }
   ],
   "source": [
    "### what are those intent\n",
    "\n",
    "\", \".join([intent['intent'] for intent in data['intents']])"
   ]
  },
  {
   "cell_type": "code",
   "execution_count": 11,
   "metadata": {},
   "outputs": [
    {
     "data": {
      "text/plain": [
       "dict_keys(['intent', 'text', 'responses', 'extension', 'context', 'entityType', 'entities'])"
      ]
     },
     "execution_count": 11,
     "metadata": {},
     "output_type": "execute_result"
    }
   ],
   "source": [
    "# In each intent what are the things present\n",
    "data['intents'][-1].keys()"
   ]
  },
  {
   "cell_type": "code",
   "execution_count": 12,
   "metadata": {},
   "outputs": [
    {
     "data": {
      "text/plain": [
       "{'intent': 'PodBayDoor',\n",
       " 'text': ['Open the pod bay door',\n",
       "  'Can you open the pod bay door',\n",
       "  'Will you open the pod bay door',\n",
       "  'Open the pod bay door please',\n",
       "  'Can you open the pod bay door please',\n",
       "  'Will you open the pod bay door please',\n",
       "  'Pod bay door'],\n",
       " 'responses': ['Iâ€™m sorry, Iâ€™m afraid I canâ€™t do that!'],\n",
       " 'extension': {'function': '', 'entities': False, 'responses': []},\n",
       " 'context': {'in': '', 'out': 'PodBayDoor', 'clear': False},\n",
       " 'entityType': 'NA',\n",
       " 'entities': []}"
      ]
     },
     "execution_count": 12,
     "metadata": {},
     "output_type": "execute_result"
    }
   ],
   "source": [
    "data['intents'][-3]"
   ]
  },
  {
   "cell_type": "markdown",
   "metadata": {},
   "source": []
  },
  {
   "cell_type": "code",
   "execution_count": 13,
   "metadata": {},
   "outputs": [],
   "source": [
    "intent_text = []\n",
    "for intent in data['intents']:\n",
    "    for text in intent['text']:\n",
    "        intent_text.append({\n",
    "            'text':text,\n",
    "            'intent':intent['intent']\n",
    "        })"
   ]
  },
  {
   "cell_type": "code",
   "execution_count": 14,
   "metadata": {},
   "outputs": [],
   "source": [
    "intent_text_df  = pd.DataFrame(intent_text)"
   ]
  },
  {
   "cell_type": "code",
   "execution_count": 15,
   "metadata": {},
   "outputs": [
    {
     "data": {
      "text/html": [
       "<div>\n",
       "<style scoped>\n",
       "    .dataframe tbody tr th:only-of-type {\n",
       "        vertical-align: middle;\n",
       "    }\n",
       "\n",
       "    .dataframe tbody tr th {\n",
       "        vertical-align: top;\n",
       "    }\n",
       "\n",
       "    .dataframe thead th {\n",
       "        text-align: right;\n",
       "    }\n",
       "</style>\n",
       "<table border=\"1\" class=\"dataframe\">\n",
       "  <thead>\n",
       "    <tr style=\"text-align: right;\">\n",
       "      <th></th>\n",
       "      <th>text</th>\n",
       "      <th>intent</th>\n",
       "    </tr>\n",
       "  </thead>\n",
       "  <tbody>\n",
       "    <tr>\n",
       "      <th>0</th>\n",
       "      <td>Hi</td>\n",
       "      <td>Greeting</td>\n",
       "    </tr>\n",
       "    <tr>\n",
       "      <th>1</th>\n",
       "      <td>Hi there</td>\n",
       "      <td>Greeting</td>\n",
       "    </tr>\n",
       "    <tr>\n",
       "      <th>2</th>\n",
       "      <td>Hola</td>\n",
       "      <td>Greeting</td>\n",
       "    </tr>\n",
       "    <tr>\n",
       "      <th>3</th>\n",
       "      <td>Hello</td>\n",
       "      <td>Greeting</td>\n",
       "    </tr>\n",
       "    <tr>\n",
       "      <th>4</th>\n",
       "      <td>Hello there</td>\n",
       "      <td>Greeting</td>\n",
       "    </tr>\n",
       "  </tbody>\n",
       "</table>\n",
       "</div>"
      ],
      "text/plain": [
       "          text    intent\n",
       "0           Hi  Greeting\n",
       "1     Hi there  Greeting\n",
       "2         Hola  Greeting\n",
       "3        Hello  Greeting\n",
       "4  Hello there  Greeting"
      ]
     },
     "execution_count": 15,
     "metadata": {},
     "output_type": "execute_result"
    }
   ],
   "source": [
    "intent_text_df.head()"
   ]
  },
  {
   "cell_type": "code",
   "execution_count": 16,
   "metadata": {},
   "outputs": [
    {
     "data": {
      "text/plain": [
       "(143, 2)"
      ]
     },
     "execution_count": 16,
     "metadata": {},
     "output_type": "execute_result"
    }
   ],
   "source": [
    "intent_text_df.shape"
   ]
  },
  {
   "cell_type": "code",
   "execution_count": 33,
   "metadata": {},
   "outputs": [],
   "source": [
    "intent_text_df.to_csv(\"intent_text.csv\",index=False)"
   ]
  },
  {
   "cell_type": "code",
   "execution_count": 17,
   "metadata": {},
   "outputs": [
    {
     "data": {
      "text/html": [
       "<div>\n",
       "<style scoped>\n",
       "    .dataframe tbody tr th:only-of-type {\n",
       "        vertical-align: middle;\n",
       "    }\n",
       "\n",
       "    .dataframe tbody tr th {\n",
       "        vertical-align: top;\n",
       "    }\n",
       "\n",
       "    .dataframe thead th {\n",
       "        text-align: right;\n",
       "    }\n",
       "</style>\n",
       "<table border=\"1\" class=\"dataframe\">\n",
       "  <thead>\n",
       "    <tr style=\"text-align: right;\">\n",
       "      <th></th>\n",
       "      <th>text</th>\n",
       "    </tr>\n",
       "    <tr>\n",
       "      <th>intent</th>\n",
       "      <th></th>\n",
       "    </tr>\n",
       "  </thead>\n",
       "  <tbody>\n",
       "    <tr>\n",
       "      <th>Clever</th>\n",
       "      <td>7</td>\n",
       "    </tr>\n",
       "    <tr>\n",
       "      <th>CourtesyGoodBye</th>\n",
       "      <td>6</td>\n",
       "    </tr>\n",
       "    <tr>\n",
       "      <th>CourtesyGreeting</th>\n",
       "      <td>7</td>\n",
       "    </tr>\n",
       "    <tr>\n",
       "      <th>CourtesyGreetingResponse</th>\n",
       "      <td>8</td>\n",
       "    </tr>\n",
       "    <tr>\n",
       "      <th>CurrentHumanQuery</th>\n",
       "      <td>7</td>\n",
       "    </tr>\n",
       "    <tr>\n",
       "      <th>GoodBye</th>\n",
       "      <td>4</td>\n",
       "    </tr>\n",
       "    <tr>\n",
       "      <th>Gossip</th>\n",
       "      <td>6</td>\n",
       "    </tr>\n",
       "    <tr>\n",
       "      <th>Greeting</th>\n",
       "      <td>7</td>\n",
       "    </tr>\n",
       "    <tr>\n",
       "      <th>GreetingResponse</th>\n",
       "      <td>8</td>\n",
       "    </tr>\n",
       "    <tr>\n",
       "      <th>Jokes</th>\n",
       "      <td>6</td>\n",
       "    </tr>\n",
       "    <tr>\n",
       "      <th>NameQuery</th>\n",
       "      <td>6</td>\n",
       "    </tr>\n",
       "    <tr>\n",
       "      <th>NotTalking2U</th>\n",
       "      <td>7</td>\n",
       "    </tr>\n",
       "    <tr>\n",
       "      <th>PodBayDoor</th>\n",
       "      <td>7</td>\n",
       "    </tr>\n",
       "    <tr>\n",
       "      <th>PodBayDoorResponse</th>\n",
       "      <td>7</td>\n",
       "    </tr>\n",
       "    <tr>\n",
       "      <th>RealNameQuery</th>\n",
       "      <td>7</td>\n",
       "    </tr>\n",
       "    <tr>\n",
       "      <th>SelfAware</th>\n",
       "      <td>7</td>\n",
       "    </tr>\n",
       "    <tr>\n",
       "      <th>Shutup</th>\n",
       "      <td>7</td>\n",
       "    </tr>\n",
       "    <tr>\n",
       "      <th>Swearing</th>\n",
       "      <td>4</td>\n",
       "    </tr>\n",
       "    <tr>\n",
       "      <th>Thanks</th>\n",
       "      <td>6</td>\n",
       "    </tr>\n",
       "    <tr>\n",
       "      <th>TimeQuery</th>\n",
       "      <td>7</td>\n",
       "    </tr>\n",
       "    <tr>\n",
       "      <th>UnderstandQuery</th>\n",
       "      <td>6</td>\n",
       "    </tr>\n",
       "    <tr>\n",
       "      <th>WhoAmI</th>\n",
       "      <td>6</td>\n",
       "    </tr>\n",
       "  </tbody>\n",
       "</table>\n",
       "</div>"
      ],
      "text/plain": [
       "                          text\n",
       "intent                        \n",
       "Clever                       7\n",
       "CourtesyGoodBye              6\n",
       "CourtesyGreeting             7\n",
       "CourtesyGreetingResponse     8\n",
       "CurrentHumanQuery            7\n",
       "GoodBye                      4\n",
       "Gossip                       6\n",
       "Greeting                     7\n",
       "GreetingResponse             8\n",
       "Jokes                        6\n",
       "NameQuery                    6\n",
       "NotTalking2U                 7\n",
       "PodBayDoor                   7\n",
       "PodBayDoorResponse           7\n",
       "RealNameQuery                7\n",
       "SelfAware                    7\n",
       "Shutup                       7\n",
       "Swearing                     4\n",
       "Thanks                       6\n",
       "TimeQuery                    7\n",
       "UnderstandQuery              6\n",
       "WhoAmI                       6"
      ]
     },
     "execution_count": 17,
     "metadata": {},
     "output_type": "execute_result"
    }
   ],
   "source": [
    "intent_text_df.groupby(['intent']).count()"
   ]
  },
  {
   "cell_type": "code",
   "execution_count": 40,
   "metadata": {},
   "outputs": [
    {
     "data": {
      "application/vnd.jupyter.widget-view+json": {
       "model_id": "aedba9c1b76b4f369853748d9ccf0f51",
       "version_major": 2,
       "version_minor": 0
      },
      "text/plain": [
       "Downloading:   0%|          | 0.00/28.0 [00:00<?, ?B/s]"
      ]
     },
     "metadata": {},
     "output_type": "display_data"
    },
    {
     "data": {
      "application/vnd.jupyter.widget-view+json": {
       "model_id": "0928a636fc4742c59c1c0dfcf4e083f1",
       "version_major": 2,
       "version_minor": 0
      },
      "text/plain": [
       "Downloading:   0%|          | 0.00/226k [00:00<?, ?B/s]"
      ]
     },
     "metadata": {},
     "output_type": "display_data"
    },
    {
     "data": {
      "application/vnd.jupyter.widget-view+json": {
       "model_id": "8248f41bd4fb4a9493dbdb19ec76fbb7",
       "version_major": 2,
       "version_minor": 0
      },
      "text/plain": [
       "Downloading:   0%|          | 0.00/455k [00:00<?, ?B/s]"
      ]
     },
     "metadata": {},
     "output_type": "display_data"
    },
    {
     "data": {
      "application/vnd.jupyter.widget-view+json": {
       "model_id": "00513a0160d44032a31b1f1296629b38",
       "version_major": 2,
       "version_minor": 0
      },
      "text/plain": [
       "Downloading:   0%|          | 0.00/570 [00:00<?, ?B/s]"
      ]
     },
     "metadata": {},
     "output_type": "display_data"
    },
    {
     "data": {
      "application/vnd.jupyter.widget-view+json": {
       "model_id": "b36f3c50468848efb3d0f754dec213c7",
       "version_major": 2,
       "version_minor": 0
      },
      "text/plain": [
       "Downloading:   0%|          | 0.00/420M [00:00<?, ?B/s]"
      ]
     },
     "metadata": {},
     "output_type": "display_data"
    },
    {
     "name": "stderr",
     "output_type": "stream",
     "text": [
      "Some weights of the model checkpoint at bert-base-uncased were not used when initializing BertModel: ['cls.seq_relationship.weight', 'cls.predictions.transform.dense.bias', 'cls.predictions.decoder.weight', 'cls.predictions.transform.LayerNorm.weight', 'cls.seq_relationship.bias', 'cls.predictions.bias', 'cls.predictions.transform.dense.weight', 'cls.predictions.transform.LayerNorm.bias']\n",
      "- This IS expected if you are initializing BertModel from the checkpoint of a model trained on another task or with another architecture (e.g. initializing a BertForSequenceClassification model from a BertForPreTraining model).\n",
      "- This IS NOT expected if you are initializing BertModel from the checkpoint of a model that you expect to be exactly identical (initializing a BertForSequenceClassification model from a BertForSequenceClassification model).\n"
     ]
    }
   ],
   "source": [
    "from transformers import AutoModel, BertTokenizerFast\n",
    "# Load the BERT tokenizer\n",
    "tokenizer = BertTokenizerFast.from_pretrained('bert-base-uncased')\n",
    "# Import BERT-base pretrained model\n",
    "bert = AutoModel.from_pretrained('bert-base-uncased')"
   ]
  },
  {
   "cell_type": "code",
   "execution_count": 21,
   "metadata": {},
   "outputs": [],
   "source": [
    "text = intent_text_df['text'].to_list()"
   ]
  },
  {
   "cell_type": "code",
   "execution_count": 75,
   "metadata": {},
   "outputs": [],
   "source": [
    "t = tokenizer(text, padding=True,truncation=True, return_tensors='pt')"
   ]
  },
  {
   "cell_type": "code",
   "execution_count": null,
   "metadata": {},
   "outputs": [],
   "source": [
    "tokenizer()"
   ]
  },
  {
   "cell_type": "code",
   "execution_count": 76,
   "metadata": {},
   "outputs": [],
   "source": [
    "x , x_mask = t['input_ids'], t['attention_mask']"
   ]
  },
  {
   "cell_type": "code",
   "execution_count": 115,
   "metadata": {},
   "outputs": [],
   "source": [
    "from sklearn.preprocessing import LabelEncoder"
   ]
  },
  {
   "cell_type": "code",
   "execution_count": 116,
   "metadata": {},
   "outputs": [],
   "source": [
    "encoder = LabelEncoder()"
   ]
  },
  {
   "cell_type": "code",
   "execution_count": 117,
   "metadata": {},
   "outputs": [
    {
     "name": "stderr",
     "output_type": "stream",
     "text": [
      "c:\\users\\deepa\\appdata\\local\\programs\\python\\python39\\lib\\site-packages\\sklearn\\utils\\validation.py:63: DataConversionWarning: A column-vector y was passed when a 1d array was expected. Please change the shape of y to (n_samples, ), for example using ravel().\n",
      "  return f(*args, **kwargs)\n"
     ]
    }
   ],
   "source": [
    "y = encoder.fit_transform(intent_text_df['intent'].to_numpy().reshape(-1,1))"
   ]
  },
  {
   "cell_type": "code",
   "execution_count": 168,
   "metadata": {},
   "outputs": [
    {
     "data": {
      "text/plain": [
       "array(['Clever'], dtype=object)"
      ]
     },
     "execution_count": 168,
     "metadata": {},
     "output_type": "execute_result"
    }
   ],
   "source": [
    "encoder.inverse_transform([0])"
   ]
  },
  {
   "cell_type": "code",
   "execution_count": 119,
   "metadata": {},
   "outputs": [
    {
     "data": {
      "text/plain": [
       "(143,)"
      ]
     },
     "execution_count": 119,
     "metadata": {},
     "output_type": "execute_result"
    }
   ],
   "source": [
    "y.shape"
   ]
  },
  {
   "cell_type": "code",
   "execution_count": 78,
   "metadata": {},
   "outputs": [],
   "source": [
    "import torch.nn as nn"
   ]
  },
  {
   "cell_type": "code",
   "execution_count": 198,
   "metadata": {},
   "outputs": [],
   "source": [
    "class BERT_Arch(torch.nn.Module):\n",
    "    def __init__(self, bert=None):      \n",
    "        super(BERT_Arch, self).__init__()\n",
    "        self.max_len = 11\n",
    "        self.bert = bert\n",
    "        self.tokenizer = BertTokenizerFast.from_pretrained('bert-base-uncased')\n",
    "        if not bert:\n",
    "            self.bert = AutoModel.from_pretrained('bert-base-uncased')\n",
    "\n",
    "            for p in self.bert.parameters():\n",
    "                p.requires_grad = False\n",
    "        else:\n",
    "            self.bert = bert\n",
    "        # dropout layer\n",
    "        self.dropout = nn.Dropout(0.2)\n",
    "\n",
    "        # relu activation function\n",
    "        self.relu =  nn.ReLU()\n",
    "        # dense layer\n",
    "        self.fc1 = nn.Linear(768,512)\n",
    "        self.fc2 = nn.Linear(512,256)\n",
    "        self.fc3 = nn.Linear(256,22)\n",
    "        #softmax activation function\n",
    "        self.softmax = nn.LogSoftmax(dim=1)\n",
    "        #define the forward pass\n",
    "    def forward(self, sent_id, mask):\n",
    "        #pass the inputs to the model  \n",
    "        cls_hs = self.bert(sent_id, attention_mask=mask)[0][:,0]\n",
    "\n",
    "        x = self.fc1(cls_hs)\n",
    "        x = self.relu(x)\n",
    "        x = self.dropout(x)\n",
    "\n",
    "        x = self.fc2(x)\n",
    "        x = self.relu(x)\n",
    "        x = self.dropout(x)\n",
    "        # output layer\n",
    "        x = self.fc3(x)\n",
    "\n",
    "        # apply softmax activation\n",
    "        x = self.softmax(x)\n",
    "        return x\n",
    "    \n",
    "    def inference(self, text):\n",
    "        label = ['Clever', 'CourtesyGoodBye', 'CourtesyGreeting',\n",
    "               'CourtesyGreetingResponse', 'CurrentHumanQuery', 'GoodBye',\n",
    "               'Gossip', 'Greeting', 'GreetingResponse', 'Jokes', 'NameQuery',\n",
    "               'NotTalking2U', 'PodBayDoor', 'PodBayDoorResponse',\n",
    "               'RealNameQuery', 'SelfAware', 'Shutup', 'Swearing', 'Thanks',\n",
    "               'TimeQuery', 'UnderstandQuery', 'WhoAmI']\n",
    "        with torch.no_grad():\n",
    "            t= self.tokenizer(text, padding=True,truncation=True, return_tensors='pt',max_length=self.max_len)\n",
    "            token, mask = t['input_ids'], t['attention_mask']\n",
    "            res = self.forward(token, mask)\n",
    "            return label[res.argmax()], torch.exp(res.max())"
   ]
  },
  {
   "cell_type": "code",
   "execution_count": 190,
   "metadata": {},
   "outputs": [
    {
     "name": "stderr",
     "output_type": "stream",
     "text": [
      "Some weights of the model checkpoint at bert-base-uncased were not used when initializing BertModel: ['cls.seq_relationship.weight', 'cls.predictions.transform.dense.bias', 'cls.predictions.decoder.weight', 'cls.predictions.transform.LayerNorm.weight', 'cls.seq_relationship.bias', 'cls.predictions.bias', 'cls.predictions.transform.dense.weight', 'cls.predictions.transform.LayerNorm.bias']\n",
      "- This IS expected if you are initializing BertModel from the checkpoint of a model trained on another task or with another architecture (e.g. initializing a BertForSequenceClassification model from a BertForPreTraining model).\n",
      "- This IS NOT expected if you are initializing BertModel from the checkpoint of a model that you expect to be exactly identical (initializing a BertForSequenceClassification model from a BertForSequenceClassification model).\n"
     ]
    }
   ],
   "source": [
    "model = BERT_Arch()"
   ]
  },
  {
   "cell_type": "code",
   "execution_count": null,
   "metadata": {},
   "outputs": [],
   "source": []
  },
  {
   "cell_type": "code",
   "execution_count": null,
   "metadata": {},
   "outputs": [],
   "source": []
  },
  {
   "cell_type": "code",
   "execution_count": 105,
   "metadata": {},
   "outputs": [],
   "source": [
    "for param in bert.parameters():\n",
    "    param.requires_grad = False"
   ]
  },
  {
   "cell_type": "code",
   "execution_count": 106,
   "metadata": {},
   "outputs": [],
   "source": [
    "model = BERT_Arch(bert)"
   ]
  },
  {
   "cell_type": "code",
   "execution_count": 107,
   "metadata": {},
   "outputs": [
    {
     "name": "stderr",
     "output_type": "stream",
     "text": [
      "c:\\users\\deepa\\appdata\\local\\programs\\python\\python39\\lib\\site-packages\\transformers\\optimization.py:306: FutureWarning: This implementation of AdamW is deprecated and will be removed in a future version. Use the PyTorch implementation torch.optim.AdamW instead, or set `no_deprecation_warning=True` to disable this warning\n",
      "  warnings.warn(\n"
     ]
    }
   ],
   "source": [
    "from transformers import AdamW\n",
    "# define the optimizer\n",
    "optimizer = AdamW(model.parameters(), lr = 1e-3)"
   ]
  },
  {
   "cell_type": "code",
   "execution_count": 108,
   "metadata": {},
   "outputs": [
    {
     "name": "stdout",
     "output_type": "stream",
     "text": [
      "[0.92857143 1.08333333 0.92857143 0.8125     0.92857143 1.625\n",
      " 1.08333333 0.92857143 0.8125     1.08333333 1.08333333 0.92857143\n",
      " 0.92857143 0.92857143 0.92857143 0.92857143 0.92857143 1.625\n",
      " 1.08333333 0.92857143 1.08333333 1.08333333]\n"
     ]
    },
    {
     "name": "stderr",
     "output_type": "stream",
     "text": [
      "c:\\users\\deepa\\appdata\\local\\programs\\python\\python39\\lib\\site-packages\\sklearn\\utils\\validation.py:70: FutureWarning: Pass classes=['Clever' 'CourtesyGoodBye' 'CourtesyGreeting' 'CourtesyGreetingResponse'\n",
      " 'CurrentHumanQuery' 'GoodBye' 'Gossip' 'Greeting' 'GreetingResponse'\n",
      " 'Jokes' 'NameQuery' 'NotTalking2U' 'PodBayDoor' 'PodBayDoorResponse'\n",
      " 'RealNameQuery' 'SelfAware' 'Shutup' 'Swearing' 'Thanks' 'TimeQuery'\n",
      " 'UnderstandQuery' 'WhoAmI'], y=0       Greeting\n",
      "1       Greeting\n",
      "2       Greeting\n",
      "3       Greeting\n",
      "4       Greeting\n",
      "         ...    \n",
      "138    SelfAware\n",
      "139    SelfAware\n",
      "140    SelfAware\n",
      "141    SelfAware\n",
      "142    SelfAware\n",
      "Name: intent, Length: 143, dtype: object as keyword args. From version 1.0 (renaming of 0.25) passing these as positional arguments will result in an error\n",
      "  warnings.warn(f\"Pass {args_msg} as keyword args. From version \"\n"
     ]
    }
   ],
   "source": [
    "from sklearn.utils.class_weight import compute_class_weight\n",
    "#compute the class weights\n",
    "class_wts = compute_class_weight('balanced', np.unique(intent_text_df['intent']), intent_text_df['intent'])\n",
    "print(class_wts)"
   ]
  },
  {
   "cell_type": "code",
   "execution_count": 109,
   "metadata": {},
   "outputs": [],
   "source": [
    "weights= torch.tensor(class_wts,dtype=torch.float)\n",
    "# weights = weights.to(device)\n",
    "# loss function\n",
    "cross_entropy = nn.NLLLoss(weight=weights)"
   ]
  },
  {
   "cell_type": "code",
   "execution_count": 110,
   "metadata": {},
   "outputs": [],
   "source": [
    "train_losses=[]\n",
    "# number of training epochs\n",
    "epochs = 200\n",
    "# We can also use learning rate scheduler to achieve better results\n",
    "lr_sch = torch.optim.lr_scheduler.StepLR(optimizer, step_size=100, gamma=0.1)"
   ]
  },
  {
   "cell_type": "code",
   "execution_count": 120,
   "metadata": {},
   "outputs": [],
   "source": [
    "class Dataset(torch.utils.data.Dataset):\n",
    "    def __init__(self,x,m,y):\n",
    "        self.x = x\n",
    "        self.m = m\n",
    "        self.y = y\n",
    "    def __len__(self):\n",
    "        return self.x.shape[0]\n",
    "    def __getitem__(self,index):\n",
    "        return self.x[index], self.m[index], self.y[index]\n",
    "\n",
    "dataset = Dataset(x,x_mask, y)\n",
    "train_dataloader = torch.utils.data.DataLoader(dataset, batch_size=8,shuffle=True)"
   ]
  },
  {
   "cell_type": "code",
   "execution_count": 129,
   "metadata": {},
   "outputs": [
    {
     "data": {
      "text/plain": [
       "tensor([15,  8, 15, 19,  3,  0, 11, 15])"
      ]
     },
     "execution_count": 129,
     "metadata": {},
     "output_type": "execute_result"
    }
   ],
   "source": [
    "i[2].long()"
   ]
  },
  {
   "cell_type": "code",
   "execution_count": 121,
   "metadata": {},
   "outputs": [
    {
     "name": "stdout",
     "output_type": "stream",
     "text": [
      "[tensor([[  101,  2064,  2017,  6011,  2017,  2024,  2969,  1011,  5204,  3531,\n",
      "           102],\n",
      "        [  101,  2023,  2003, 12101,   102,     0,     0,     0,     0,     0,\n",
      "             0],\n",
      "        [  101,  2064,  2017,  6011,  2017,  2024,  2969,  5204,   102,     0,\n",
      "             0],\n",
      "        [  101,  2054,  2003,  1996,  2051,  1029,   102,     0,     0,     0,\n",
      "             0],\n",
      "        [  101,  2204,  4283,   999,  2023,  2003,  4205,   102,     0,     0,\n",
      "             0],\n",
      "        [  101, 12266,  2611,   102,     0,     0,     0,     0,     0,     0,\n",
      "             0],\n",
      "        [  101,  2347,  1005,  1056,  4092,  2000,  2017,   102,     0,     0,\n",
      "             0],\n",
      "        [  101,  2064,  2017,  6011,  2017,  2031,  1037,  9715,   102,     0,\n",
      "             0]]), tensor([[1, 1, 1, 1, 1, 1, 1, 1, 1, 1, 1],\n",
      "        [1, 1, 1, 1, 1, 0, 0, 0, 0, 0, 0],\n",
      "        [1, 1, 1, 1, 1, 1, 1, 1, 1, 0, 0],\n",
      "        [1, 1, 1, 1, 1, 1, 1, 0, 0, 0, 0],\n",
      "        [1, 1, 1, 1, 1, 1, 1, 1, 0, 0, 0],\n",
      "        [1, 1, 1, 1, 0, 0, 0, 0, 0, 0, 0],\n",
      "        [1, 1, 1, 1, 1, 1, 1, 1, 0, 0, 0],\n",
      "        [1, 1, 1, 1, 1, 1, 1, 1, 1, 0, 0]]), tensor([15,  8, 15, 19,  3,  0, 11, 15], dtype=torch.int32)]\n"
     ]
    }
   ],
   "source": [
    "for i in train_dataloader:\n",
    "    print(i)\n",
    "    break"
   ]
  },
  {
   "cell_type": "code",
   "execution_count": 130,
   "metadata": {},
   "outputs": [],
   "source": [
    "def train():\n",
    "  \n",
    "    model.train()\n",
    "    total_loss = 0  \n",
    "    # empty list to save model predictions\n",
    "    total_preds=[]\n",
    "\n",
    "    # iterate over batches\n",
    "    for step,batch in enumerate(train_dataloader):\n",
    "\n",
    "        # progress update after every 50 batches.\n",
    "        if step % 50 == 0 and not step == 0:\n",
    "            print('  Batch {:>5,}  of  {:>5,}.'.format(step,    len(train_dataloader)))\n",
    "        # push the batch to gpu\n",
    "#         batch = [r.to(device) for r in batch] \n",
    "        sent_id, mask, labels = batch\n",
    "        # get model predictions for the current batch\n",
    "        preds = model(sent_id, mask)\n",
    "        # compute the loss between actual and predicted values\n",
    "        loss = cross_entropy(preds, labels.long())\n",
    "        # add on to the total loss\n",
    "        total_loss = total_loss + loss.item()\n",
    "        # backward pass to calculate the gradients\n",
    "        loss.backward()\n",
    "        # clip the the gradients to 1.0. It helps in preventing the    exploding gradient problem\n",
    "        torch.nn.utils.clip_grad_norm_(model.parameters(), 1.0)\n",
    "        # update parameters\n",
    "        optimizer.step()\n",
    "        # clear calculated gradients\n",
    "        optimizer.zero_grad()\n",
    "\n",
    "        # We are not using learning rate scheduler as of now\n",
    "        # lr_sch.step()\n",
    "        # model predictions are stored on GPU. So, push it to CPU\n",
    "        preds=preds.detach().numpy()\n",
    "        # append the model predictions\n",
    "        total_preds.append(preds)\n",
    "        # compute the training loss of the epoch\n",
    "    avg_loss = total_loss / len(train_dataloader)\n",
    "\n",
    "    # predictions are in the form of (no. of batches, size of batch, no. of classes).\n",
    "    # reshape the predictions in form of (number of samples, no. of classes)\n",
    "    total_preds  = np.concatenate(total_preds, axis=0)\n",
    "    #returns the loss and predictions\n",
    "    return avg_loss, total_preds"
   ]
  },
  {
   "cell_type": "code",
   "execution_count": 131,
   "metadata": {},
   "outputs": [
    {
     "name": "stdout",
     "output_type": "stream",
     "text": [
      "\n",
      " Epoch 1 / 200\n",
      "\n",
      " Epoch 2 / 200\n",
      "\n",
      " Epoch 3 / 200\n",
      "\n",
      " Epoch 4 / 200\n",
      "\n",
      " Epoch 5 / 200\n",
      "\n",
      " Epoch 6 / 200\n",
      "\n",
      " Epoch 7 / 200\n",
      "\n",
      " Epoch 8 / 200\n",
      "\n",
      " Epoch 9 / 200\n",
      "\n",
      " Epoch 10 / 200\n",
      "\n",
      " Epoch 11 / 200\n",
      "\n",
      " Epoch 12 / 200\n",
      "\n",
      " Epoch 13 / 200\n",
      "\n",
      " Epoch 14 / 200\n",
      "\n",
      " Epoch 15 / 200\n",
      "\n",
      " Epoch 16 / 200\n",
      "\n",
      " Epoch 17 / 200\n",
      "\n",
      " Epoch 18 / 200\n",
      "\n",
      " Epoch 19 / 200\n",
      "\n",
      " Epoch 20 / 200\n",
      "\n",
      " Epoch 21 / 200\n",
      "\n",
      " Epoch 22 / 200\n",
      "\n",
      " Epoch 23 / 200\n",
      "\n",
      " Epoch 24 / 200\n",
      "\n",
      " Epoch 25 / 200\n",
      "\n",
      " Epoch 26 / 200\n",
      "\n",
      " Epoch 27 / 200\n",
      "\n",
      " Epoch 28 / 200\n",
      "\n",
      " Epoch 29 / 200\n",
      "\n",
      " Epoch 30 / 200\n",
      "\n",
      " Epoch 31 / 200\n",
      "\n",
      " Epoch 32 / 200\n",
      "\n",
      " Epoch 33 / 200\n",
      "\n",
      " Epoch 34 / 200\n",
      "\n",
      " Epoch 35 / 200\n",
      "\n",
      " Epoch 36 / 200\n",
      "\n",
      " Epoch 37 / 200\n",
      "\n",
      " Epoch 38 / 200\n",
      "\n",
      " Epoch 39 / 200\n",
      "\n",
      " Epoch 40 / 200\n",
      "\n",
      " Epoch 41 / 200\n",
      "\n",
      " Epoch 42 / 200\n",
      "\n",
      " Epoch 43 / 200\n",
      "\n",
      " Epoch 44 / 200\n",
      "\n",
      " Epoch 45 / 200\n",
      "\n",
      " Epoch 46 / 200\n",
      "\n",
      " Epoch 47 / 200\n",
      "\n",
      " Epoch 48 / 200\n",
      "\n",
      " Epoch 49 / 200\n",
      "\n",
      " Epoch 50 / 200\n",
      "\n",
      " Epoch 51 / 200\n",
      "\n",
      " Epoch 52 / 200\n",
      "\n",
      " Epoch 53 / 200\n",
      "\n",
      " Epoch 54 / 200\n",
      "\n",
      " Epoch 55 / 200\n",
      "\n",
      " Epoch 56 / 200\n",
      "\n",
      " Epoch 57 / 200\n",
      "\n",
      " Epoch 58 / 200\n",
      "\n",
      " Epoch 59 / 200\n",
      "\n",
      " Epoch 60 / 200\n",
      "\n",
      " Epoch 61 / 200\n",
      "\n",
      " Epoch 62 / 200\n",
      "\n",
      " Epoch 63 / 200\n",
      "\n",
      " Epoch 64 / 200\n",
      "\n",
      " Epoch 65 / 200\n",
      "\n",
      " Epoch 66 / 200\n",
      "\n",
      " Epoch 67 / 200\n",
      "\n",
      " Epoch 68 / 200\n",
      "\n",
      " Epoch 69 / 200\n",
      "\n",
      " Epoch 70 / 200\n",
      "\n",
      " Epoch 71 / 200\n",
      "\n",
      " Epoch 72 / 200\n",
      "\n",
      " Epoch 73 / 200\n",
      "\n",
      " Epoch 74 / 200\n",
      "\n",
      " Epoch 75 / 200\n",
      "\n",
      " Epoch 76 / 200\n",
      "\n",
      " Epoch 77 / 200\n",
      "\n",
      " Epoch 78 / 200\n",
      "\n",
      " Epoch 79 / 200\n",
      "\n",
      " Epoch 80 / 200\n",
      "\n",
      " Epoch 81 / 200\n",
      "\n",
      " Epoch 82 / 200\n",
      "\n",
      " Epoch 83 / 200\n",
      "\n",
      " Epoch 84 / 200\n",
      "\n",
      " Epoch 85 / 200\n",
      "\n",
      " Epoch 86 / 200\n",
      "\n",
      " Epoch 87 / 200\n",
      "\n",
      " Epoch 88 / 200\n",
      "\n",
      " Epoch 89 / 200\n",
      "\n",
      " Epoch 90 / 200\n",
      "\n",
      " Epoch 91 / 200\n",
      "\n",
      " Epoch 92 / 200\n",
      "\n",
      " Epoch 93 / 200\n",
      "\n",
      " Epoch 94 / 200\n",
      "\n",
      " Epoch 95 / 200\n",
      "\n",
      " Epoch 96 / 200\n",
      "\n",
      " Epoch 97 / 200\n",
      "\n",
      " Epoch 98 / 200\n",
      "\n",
      " Epoch 99 / 200\n",
      "\n",
      " Epoch 100 / 200\n",
      "\n",
      " Epoch 101 / 200\n",
      "\n",
      " Epoch 102 / 200\n",
      "\n",
      " Epoch 103 / 200\n",
      "\n",
      " Epoch 104 / 200\n",
      "\n",
      " Epoch 105 / 200\n",
      "\n",
      " Epoch 106 / 200\n",
      "\n",
      " Epoch 107 / 200\n",
      "\n",
      " Epoch 108 / 200\n",
      "\n",
      " Epoch 109 / 200\n",
      "\n",
      " Epoch 110 / 200\n",
      "\n",
      " Epoch 111 / 200\n",
      "\n",
      " Epoch 112 / 200\n",
      "\n",
      " Epoch 113 / 200\n",
      "\n",
      " Epoch 114 / 200\n",
      "\n",
      " Epoch 115 / 200\n",
      "\n",
      " Epoch 116 / 200\n",
      "\n",
      " Epoch 117 / 200\n",
      "\n",
      " Epoch 118 / 200\n",
      "\n",
      " Epoch 119 / 200\n",
      "\n",
      " Epoch 120 / 200\n",
      "\n",
      " Epoch 121 / 200\n",
      "\n",
      " Epoch 122 / 200\n",
      "\n",
      " Epoch 123 / 200\n",
      "\n",
      " Epoch 124 / 200\n",
      "\n",
      " Epoch 125 / 200\n",
      "\n",
      " Epoch 126 / 200\n",
      "\n",
      " Epoch 127 / 200\n",
      "\n",
      " Epoch 128 / 200\n",
      "\n",
      " Epoch 129 / 200\n",
      "\n",
      " Epoch 130 / 200\n",
      "\n",
      " Epoch 131 / 200\n",
      "\n",
      " Epoch 132 / 200\n",
      "\n",
      " Epoch 133 / 200\n",
      "\n",
      " Epoch 134 / 200\n",
      "\n",
      " Epoch 135 / 200\n",
      "\n",
      " Epoch 136 / 200\n",
      "\n",
      " Epoch 137 / 200\n",
      "\n",
      " Epoch 138 / 200\n",
      "\n",
      " Epoch 139 / 200\n",
      "\n",
      " Epoch 140 / 200\n",
      "\n",
      " Epoch 141 / 200\n",
      "\n",
      " Epoch 142 / 200\n",
      "\n",
      " Epoch 143 / 200\n",
      "\n",
      " Epoch 144 / 200\n",
      "\n",
      " Epoch 145 / 200\n",
      "\n",
      " Epoch 146 / 200\n",
      "\n",
      " Epoch 147 / 200\n",
      "\n",
      " Epoch 148 / 200\n",
      "\n",
      " Epoch 149 / 200\n",
      "\n",
      " Epoch 150 / 200\n",
      "\n",
      " Epoch 151 / 200\n",
      "\n",
      " Epoch 152 / 200\n",
      "\n",
      " Epoch 153 / 200\n",
      "\n",
      " Epoch 154 / 200\n",
      "\n",
      " Epoch 155 / 200\n",
      "\n",
      " Epoch 156 / 200\n",
      "\n",
      " Epoch 157 / 200\n",
      "\n",
      " Epoch 158 / 200\n",
      "\n",
      " Epoch 159 / 200\n",
      "\n",
      " Epoch 160 / 200\n",
      "\n",
      " Epoch 161 / 200\n",
      "\n",
      " Epoch 162 / 200\n",
      "\n",
      " Epoch 163 / 200\n",
      "\n",
      " Epoch 164 / 200\n",
      "\n",
      " Epoch 165 / 200\n",
      "\n",
      " Epoch 166 / 200\n",
      "\n",
      " Epoch 167 / 200\n",
      "\n",
      " Epoch 168 / 200\n",
      "\n",
      " Epoch 169 / 200\n",
      "\n",
      " Epoch 170 / 200\n",
      "\n",
      " Epoch 171 / 200\n",
      "\n",
      " Epoch 172 / 200\n",
      "\n",
      " Epoch 173 / 200\n",
      "\n",
      " Epoch 174 / 200\n",
      "\n",
      " Epoch 175 / 200\n",
      "\n",
      " Epoch 176 / 200\n",
      "\n",
      " Epoch 177 / 200\n",
      "\n",
      " Epoch 178 / 200\n",
      "\n",
      " Epoch 179 / 200\n",
      "\n",
      " Epoch 180 / 200\n",
      "\n",
      " Epoch 181 / 200\n",
      "\n",
      " Epoch 182 / 200\n",
      "\n",
      " Epoch 183 / 200\n",
      "\n",
      " Epoch 184 / 200\n",
      "\n",
      " Epoch 185 / 200\n",
      "\n",
      " Epoch 186 / 200\n",
      "\n",
      " Epoch 187 / 200\n",
      "\n",
      " Epoch 188 / 200\n",
      "\n",
      " Epoch 189 / 200\n",
      "\n",
      " Epoch 190 / 200\n",
      "\n",
      " Epoch 191 / 200\n",
      "\n",
      " Epoch 192 / 200\n",
      "\n",
      " Epoch 193 / 200\n",
      "\n",
      " Epoch 194 / 200\n",
      "\n",
      " Epoch 195 / 200\n",
      "\n",
      " Epoch 196 / 200\n",
      "\n",
      " Epoch 197 / 200\n",
      "\n",
      " Epoch 198 / 200\n",
      "\n",
      " Epoch 199 / 200\n",
      "\n",
      " Epoch 200 / 200\n",
      "\n",
      "Training Loss: 0.052\n"
     ]
    }
   ],
   "source": [
    "for epoch in range(epochs):\n",
    "     \n",
    "    print('\\n Epoch {:} / {:}'.format(epoch + 1, epochs))\n",
    "    \n",
    "    #train model\n",
    "    train_loss, _ = train()\n",
    "    \n",
    "    # append training and validation loss\n",
    "    train_losses.append(train_loss)\n",
    "    # it can make your experiment reproducible, similar to set  random seed to all options where there needs a random seed.\n",
    "print(f'\\nTraining Loss: {train_loss:.3f}')"
   ]
  },
  {
   "cell_type": "code",
   "execution_count": 134,
   "metadata": {},
   "outputs": [],
   "source": [
    "torch.save({\n",
    "    'loss':train_loss,\n",
    "    'param':model.state_dict()\n",
    "},'cp/bert_intent.pt')"
   ]
  },
  {
   "cell_type": "code",
   "execution_count": null,
   "metadata": {},
   "outputs": [],
   "source": []
  },
  {
   "cell_type": "code",
   "execution_count": null,
   "metadata": {},
   "outputs": [],
   "source": []
  },
  {
   "cell_type": "markdown",
   "metadata": {},
   "source": [
    "## Inference"
   ]
  },
  {
   "cell_type": "code",
   "execution_count": 199,
   "metadata": {},
   "outputs": [
    {
     "name": "stderr",
     "output_type": "stream",
     "text": [
      "Some weights of the model checkpoint at bert-base-uncased were not used when initializing BertModel: ['cls.seq_relationship.weight', 'cls.predictions.transform.dense.bias', 'cls.predictions.decoder.weight', 'cls.predictions.transform.LayerNorm.weight', 'cls.seq_relationship.bias', 'cls.predictions.bias', 'cls.predictions.transform.dense.weight', 'cls.predictions.transform.LayerNorm.bias']\n",
      "- This IS expected if you are initializing BertModel from the checkpoint of a model trained on another task or with another architecture (e.g. initializing a BertForSequenceClassification model from a BertForPreTraining model).\n",
      "- This IS NOT expected if you are initializing BertModel from the checkpoint of a model that you expect to be exactly identical (initializing a BertForSequenceClassification model from a BertForSequenceClassification model).\n"
     ]
    }
   ],
   "source": [
    "model = BERT_Arch()"
   ]
  },
  {
   "cell_type": "code",
   "execution_count": 200,
   "metadata": {},
   "outputs": [],
   "source": [
    "cp = torch.load(\"cp/bert_intent.pt\")\n",
    "loss = cp['loss']\n",
    "state_dict = cp['param']"
   ]
  },
  {
   "cell_type": "code",
   "execution_count": 201,
   "metadata": {},
   "outputs": [
    {
     "data": {
      "text/plain": [
       "<All keys matched successfully>"
      ]
     },
     "execution_count": 201,
     "metadata": {},
     "output_type": "execute_result"
    }
   ],
   "source": [
    "model_stat = model.state_dict()\n",
    "for p in model_stat:\n",
    "    if p in state_dict:\n",
    "        model_stat[p] = state_dict[p]\n",
    "model.load_state_dict(model_stat)"
   ]
  },
  {
   "cell_type": "code",
   "execution_count": 202,
   "metadata": {},
   "outputs": [],
   "source": [
    "t,l = intent_text_df.sample(1).iloc[0].to_list()"
   ]
  },
  {
   "cell_type": "code",
   "execution_count": 203,
   "metadata": {},
   "outputs": [
    {
     "data": {
      "text/plain": [
       "'UnderstandQuery'"
      ]
     },
     "execution_count": 203,
     "metadata": {},
     "output_type": "execute_result"
    }
   ],
   "source": [
    "l"
   ]
  },
  {
   "cell_type": "code",
   "execution_count": 208,
   "metadata": {},
   "outputs": [],
   "source": [
    "res, confidence = model.inference([t])"
   ]
  },
  {
   "cell_type": "code",
   "execution_count": 210,
   "metadata": {},
   "outputs": [
    {
     "data": {
      "text/plain": [
       "('UnderstandQuery', tensor(1.))"
      ]
     },
     "execution_count": 210,
     "metadata": {},
     "output_type": "execute_result"
    }
   ],
   "source": [
    "res, confidence"
   ]
  }
 ],
 "metadata": {
  "kernelspec": {
   "display_name": "venv",
   "language": "python",
   "name": "venv"
  },
  "language_info": {
   "codemirror_mode": {
    "name": "ipython",
    "version": 3
   },
   "file_extension": ".py",
   "mimetype": "text/x-python",
   "name": "python",
   "nbconvert_exporter": "python",
   "pygments_lexer": "ipython3",
   "version": "3.9.2"
  },
  "vscode": {
   "interpreter": {
    "hash": "c0a3c91513ce8330cc510c252bd0d2b8c5edf3f02855cf0373cb264a8e18d0f0"
   }
  }
 },
 "nbformat": 4,
 "nbformat_minor": 2
}
